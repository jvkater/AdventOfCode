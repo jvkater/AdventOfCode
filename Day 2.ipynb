{
 "cells": [
  {
   "cell_type": "code",
   "execution_count": 50,
   "metadata": {},
   "outputs": [],
   "source": [
    "arr=[]\n",
    "with open('text.txt','r') as src:\n",
    "    for x in src:\n",
    "        arr.append(x.split())"
   ]
  },
  {
   "cell_type": "code",
   "execution_count": 71,
   "metadata": {
    "collapsed": true
   },
   "outputs": [
    {
     "data": {
      "text/plain": [
       "[['116',\n",
       "  '1259',\n",
       "  '1045',\n",
       "  '679',\n",
       "  '1334',\n",
       "  '157',\n",
       "  '277',\n",
       "  '1217',\n",
       "  '218',\n",
       "  '641',\n",
       "  '1089',\n",
       "  '136',\n",
       "  '247',\n",
       "  '1195',\n",
       "  '239',\n",
       "  '834'],\n",
       " ['269',\n",
       "  '1751',\n",
       "  '732',\n",
       "  '3016',\n",
       "  '260',\n",
       "  '6440',\n",
       "  '5773',\n",
       "  '4677',\n",
       "  '306',\n",
       "  '230',\n",
       "  '6928',\n",
       "  '7182',\n",
       "  '231',\n",
       "  '2942',\n",
       "  '2738',\n",
       "  '3617'],\n",
       " ['644',\n",
       "  '128',\n",
       "  '89',\n",
       "  '361',\n",
       "  '530',\n",
       "  '97',\n",
       "  '35',\n",
       "  '604',\n",
       "  '535',\n",
       "  '297',\n",
       "  '599',\n",
       "  '121',\n",
       "  '567',\n",
       "  '106',\n",
       "  '114',\n",
       "  '480'],\n",
       " ['105',\n",
       "  '408',\n",
       "  '120',\n",
       "  '363',\n",
       "  '430',\n",
       "  '102',\n",
       "  '137',\n",
       "  '283',\n",
       "  '123',\n",
       "  '258',\n",
       "  '19',\n",
       "  '101',\n",
       "  '181',\n",
       "  '477',\n",
       "  '463',\n",
       "  '279'],\n",
       " ['873',\n",
       "  '116',\n",
       "  '840',\n",
       "  '105',\n",
       "  '285',\n",
       "  '238',\n",
       "  '540',\n",
       "  '22',\n",
       "  '117',\n",
       "  '125',\n",
       "  '699',\n",
       "  '953',\n",
       "  '920',\n",
       "  '106',\n",
       "  '113',\n",
       "  '259'],\n",
       " ['3695',\n",
       "  '161',\n",
       "  '186',\n",
       "  '2188',\n",
       "  '3611',\n",
       "  '2802',\n",
       "  '157',\n",
       "  '2154',\n",
       "  '3394',\n",
       "  '145',\n",
       "  '2725',\n",
       "  '1327',\n",
       "  '3741',\n",
       "  '2493',\n",
       "  '3607',\n",
       "  '4041'],\n",
       " ['140',\n",
       "  '1401',\n",
       "  '110',\n",
       "  '119',\n",
       "  '112',\n",
       "  '1586',\n",
       "  '125',\n",
       "  '937',\n",
       "  '1469',\n",
       "  '1015',\n",
       "  '879',\n",
       "  '1798',\n",
       "  '122',\n",
       "  '1151',\n",
       "  '100',\n",
       "  '926'],\n",
       " ['2401',\n",
       "  '191',\n",
       "  '219',\n",
       "  '607',\n",
       "  '267',\n",
       "  '2362',\n",
       "  '932',\n",
       "  '2283',\n",
       "  '889',\n",
       "  '2567',\n",
       "  '2171',\n",
       "  '2409',\n",
       "  '1078',\n",
       "  '2247',\n",
       "  '2441',\n",
       "  '245'],\n",
       " ['928',\n",
       "  '1142',\n",
       "  '957',\n",
       "  '1155',\n",
       "  '922',\n",
       "  '1039',\n",
       "  '452',\n",
       "  '285',\n",
       "  '467',\n",
       "  '305',\n",
       "  '506',\n",
       "  '221',\n",
       "  '281',\n",
       "  '59',\n",
       "  '667',\n",
       "  '232'],\n",
       " ['3882',\n",
       "  '1698',\n",
       "  '170',\n",
       "  '5796',\n",
       "  '2557',\n",
       "  '173',\n",
       "  '1228',\n",
       "  '4630',\n",
       "  '174',\n",
       "  '3508',\n",
       "  '5629',\n",
       "  '4395',\n",
       "  '180',\n",
       "  '5100',\n",
       "  '2814',\n",
       "  '2247'],\n",
       " ['396',\n",
       "  '311',\n",
       "  '223',\n",
       "  '227',\n",
       "  '340',\n",
       "  '313',\n",
       "  '355',\n",
       "  '469',\n",
       "  '229',\n",
       "  '162',\n",
       "  '107',\n",
       "  '76',\n",
       "  '363',\n",
       "  '132',\n",
       "  '453',\n",
       "  '161'],\n",
       " ['627',\n",
       "  '1331',\n",
       "  '1143',\n",
       "  '1572',\n",
       "  '966',\n",
       "  '388',\n",
       "  '198',\n",
       "  '2068',\n",
       "  '201',\n",
       "  '239',\n",
       "  '176',\n",
       "  '1805',\n",
       "  '1506',\n",
       "  '1890',\n",
       "  '1980',\n",
       "  '1887'],\n",
       " ['3390',\n",
       "  '5336',\n",
       "  '1730',\n",
       "  '4072',\n",
       "  '5342',\n",
       "  '216',\n",
       "  '3823',\n",
       "  '85',\n",
       "  '5408',\n",
       "  '5774',\n",
       "  '247',\n",
       "  '5308',\n",
       "  '232',\n",
       "  '256',\n",
       "  '5214',\n",
       "  '787'],\n",
       " ['176',\n",
       "  '1694',\n",
       "  '1787',\n",
       "  '1586',\n",
       "  '3798',\n",
       "  '4243',\n",
       "  '157',\n",
       "  '4224',\n",
       "  '3603',\n",
       "  '2121',\n",
       "  '3733',\n",
       "  '851',\n",
       "  '2493',\n",
       "  '4136',\n",
       "  '148',\n",
       "  '153'],\n",
       " ['2432',\n",
       "  '4030',\n",
       "  '3397',\n",
       "  '4032',\n",
       "  '3952',\n",
       "  '2727',\n",
       "  '157',\n",
       "  '3284',\n",
       "  '3450',\n",
       "  '3229',\n",
       "  '4169',\n",
       "  '3471',\n",
       "  '4255',\n",
       "  '155',\n",
       "  '127',\n",
       "  '186'],\n",
       " ['919',\n",
       "  '615',\n",
       "  '335',\n",
       "  '816',\n",
       "  '138',\n",
       "  '97',\n",
       "  '881',\n",
       "  '790',\n",
       "  '855',\n",
       "  '89',\n",
       "  '451',\n",
       "  '789',\n",
       "  '423',\n",
       "  '108',\n",
       "  '95',\n",
       "  '116']]"
      ]
     },
     "execution_count": 71,
     "metadata": {},
     "output_type": "execute_result"
    }
   ],
   "source": [
    "arr"
   ]
  },
  {
   "cell_type": "code",
   "execution_count": 51,
   "metadata": {},
   "outputs": [],
   "source": [
    "n=[]\n",
    "for i in arr:\n",
    "    n.append(list(map(int,i)))"
   ]
  },
  {
   "cell_type": "code",
   "execution_count": 55,
   "metadata": {},
   "outputs": [
    {
     "data": {
      "text/plain": [
       "41887"
      ]
     },
     "execution_count": 55,
     "metadata": {},
     "output_type": "execute_result"
    }
   ],
   "source": [
    "chksum=0\n",
    "tempsum=0\n",
    "for i in n:\n",
    "    tempsum=max(i)-min(i)\n",
    "    chksum+=tempsum\n",
    "    \n",
    "chksum"
   ]
  },
  {
   "cell_type": "code",
   "execution_count": 56,
   "metadata": {
    "collapsed": true
   },
   "outputs": [],
   "source": [
    "test_arr= [5,9,2,8]"
   ]
  },
  {
   "cell_type": "code",
   "execution_count": 69,
   "metadata": {},
   "outputs": [
    {
     "data": {
      "text/plain": [
       "2"
      ]
     },
     "execution_count": 69,
     "metadata": {},
     "output_type": "execute_result"
    }
   ],
   "source": [
    "t = divmod(5,3)\n",
    "t[1]"
   ]
  },
  {
   "cell_type": "code",
   "execution_count": 99,
   "metadata": {},
   "outputs": [],
   "source": [
    "def searcher(x:int, inp_arr:list):\n",
    "    for i in inp_arr:\n",
    "        divtup=divmod(x,i)\n",
    "        if divtup[1]==0 and divtup[0] != 1:\n",
    "            return divtup[0]\n",
    "        "
   ]
  },
  {
   "cell_type": "code",
   "execution_count": 101,
   "metadata": {},
   "outputs": [
    {
     "data": {
      "text/plain": [
       "226"
      ]
     },
     "execution_count": 101,
     "metadata": {},
     "output_type": "execute_result"
    }
   ],
   "source": [
    "res_sum = 0\n",
    "for i in n:\n",
    "    for j in i:\n",
    "        x = searcher(j,i)\n",
    "        if x is not None:\n",
    "            res_sum +=x\n",
    "res_sum"
   ]
  },
  {
   "cell_type": "markdown",
   "metadata": {},
   "source": [
    "def searcher(x:int, inp_arr:list):\n",
    "    for i in inp_arr:\n",
    "        divtup=divmod(x,i)\n",
    "        if divtup[1]==0 and divtup[0] != 1:\n",
    "            return divtup[0]\n",
    "        else:\n",
    "            divtup = divmod(i,x)\n",
    "            if divtup[1]==0 and divtup[0] != 1:\n",
    "                return divtup[0]"
   ]
  },
  {
   "cell_type": "code",
   "execution_count": null,
   "metadata": {
    "collapsed": true
   },
   "outputs": [],
   "source": []
  }
 ],
 "metadata": {
  "kernelspec": {
   "display_name": "Python 3",
   "language": "python",
   "name": "python3"
  },
  "language_info": {
   "codemirror_mode": {
    "name": "ipython",
    "version": 3
   },
   "file_extension": ".py",
   "mimetype": "text/x-python",
   "name": "python",
   "nbconvert_exporter": "python",
   "pygments_lexer": "ipython3",
   "version": "3.6.1"
  }
 },
 "nbformat": 4,
 "nbformat_minor": 2
}
