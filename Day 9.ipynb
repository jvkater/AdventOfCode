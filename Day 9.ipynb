{
 "cells": [
  {
   "cell_type": "code",
   "execution_count": 633,
   "metadata": {},
   "outputs": [
    {
     "name": "stdout",
     "output_type": "stream",
     "text": [
      "Part 1:    16827\n",
      "Part 1:    7298\n"
     ]
    }
   ],
   "source": [
    "def day_9():\n",
    "    with open('long line.txt') as input_file:\n",
    "        line = input_file.readline()\n",
    "\n",
    "    score = 0\n",
    "    garbage_score = 0\n",
    "    current_depth = 0\n",
    "    inside_garbage = False\n",
    "    skip_char = False\n",
    "    for char in line:\n",
    "        if inside_garbage:\n",
    "            if skip_char:\n",
    "                skip_char = False\n",
    "            elif char == \"!\":\n",
    "                skip_char = True\n",
    "            elif char == \">\":\n",
    "                inside_garbage = False\n",
    "            else:\n",
    "                garbage_score += 1\n",
    "        else:  # when inside group, not garbage\n",
    "            if char == \"{\":\n",
    "                current_depth += 1\n",
    "            elif char == \"}\":\n",
    "                score += current_depth\n",
    "                current_depth -= 1\n",
    "            elif char == \"<\":\n",
    "                inside_garbage = True\n",
    "\n",
    "    print(\"Part 1:   \", score)\n",
    "    print(\"Part 1:   \", garbage_score)\n",
    "\n",
    "\n",
    "day_9()"
   ]
  },
  {
   "cell_type": "code",
   "execution_count": null,
   "metadata": {
    "collapsed": true
   },
   "outputs": [],
   "source": []
  }
 ],
 "metadata": {
  "kernelspec": {
   "display_name": "Python 3",
   "language": "python",
   "name": "python3"
  },
  "language_info": {
   "codemirror_mode": {
    "name": "ipython",
    "version": 3
   },
   "file_extension": ".py",
   "mimetype": "text/x-python",
   "name": "python",
   "nbconvert_exporter": "python",
   "pygments_lexer": "ipython3",
   "version": "3.6.1"
  }
 },
 "nbformat": 4,
 "nbformat_minor": 2
}
