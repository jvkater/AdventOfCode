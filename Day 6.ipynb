{
 "cells": [
  {
   "cell_type": "code",
   "execution_count": 1,
   "metadata": {
    "collapsed": true
   },
   "outputs": [],
   "source": [
    "x = [[1,2,3],[3,2,1],[4,5,6],[12,31,10]]"
   ]
  },
  {
   "cell_type": "code",
   "execution_count": 35,
   "metadata": {
    "collapsed": true
   },
   "outputs": [],
   "source": [
    "f = [3,2,1]"
   ]
  },
  {
   "cell_type": "code",
   "execution_count": 3,
   "metadata": {},
   "outputs": [
    {
     "data": {
      "text/plain": [
       "True"
      ]
     },
     "execution_count": 3,
     "metadata": {},
     "output_type": "execute_result"
    }
   ],
   "source": [
    "f in x"
   ]
  },
  {
   "cell_type": "code",
   "execution_count": 187,
   "metadata": {
    "collapsed": true
   },
   "outputs": [],
   "source": [
    "inp_arr = [0,5,10,0,11,14,13,4,11,8,8,7,1,4,12,11]"
   ]
  },
  {
   "cell_type": "code",
   "execution_count": 49,
   "metadata": {},
   "outputs": [],
   "source": [
    "p_inp=[]"
   ]
  },
  {
   "cell_type": "code",
   "execution_count": 6,
   "metadata": {},
   "outputs": [
    {
     "data": {
      "text/plain": [
       "5"
      ]
     },
     "execution_count": 6,
     "metadata": {},
     "output_type": "execute_result"
    }
   ],
   "source": [
    "p_inp.index(max(p_inp))"
   ]
  },
  {
   "cell_type": "code",
   "execution_count": 122,
   "metadata": {},
   "outputs": [],
   "source": [
    "def relocator(inp):\n",
    "    st=inp.index(max(inp))+1\n",
    "    if st>=len(inp):\n",
    "        st = 0\n",
    "    #print(st)\n",
    "    mvalue = (max(inp))\n",
    "    #print(mvalue)\n",
    "    inp[inp.index(max(inp))]=0\n",
    "    outps = []\n",
    "    for i in range(mvalue):\n",
    "        inp[st]+=1\n",
    "        st+=1\n",
    "        #print(inp)\n",
    "        if st>=len(inp):\n",
    "            st=0\n",
    "    return inp"
   ]
  },
  {
   "cell_type": "code",
   "execution_count": 163,
   "metadata": {
    "collapsed": true
   },
   "outputs": [],
   "source": [
    "ar = [0,2,7,0]"
   ]
  },
  {
   "cell_type": "code",
   "execution_count": 188,
   "metadata": {},
   "outputs": [
    {
     "name": "stdout",
     "output_type": "stream",
     "text": [
      "7864\n",
      "1696\n"
     ]
    }
   ],
   "source": [
    "res_arr = []\n",
    "res=inp_arr\n",
    "it=0\n",
    "exit = False\n",
    "\n",
    "for i in range(40000):\n",
    "    res = relocator(inp_arr)\n",
    "    it+=1\n",
    "    if res in res_arr:\n",
    "        print(it)\n",
    "        print(it - res_arr.index(res))\n",
    "        break\n",
    "    #print(res)\n",
    "    res_arr.append(res.copy())\n"
   ]
  },
  {
   "cell_type": "code",
   "execution_count": 165,
   "metadata": {},
   "outputs": [
    {
     "data": {
      "text/plain": [
       "[[2, 4, 1, 2],\n",
       " [3, 1, 2, 3],\n",
       " [0, 2, 3, 4],\n",
       " [1, 3, 4, 1],\n",
       " [2, 4, 1, 2],\n",
       " [3, 1, 2, 3],\n",
       " [0, 2, 3, 4],\n",
       " [1, 3, 4, 1],\n",
       " [2, 4, 1, 2],\n",
       " [3, 1, 2, 3]]"
      ]
     },
     "execution_count": 165,
     "metadata": {},
     "output_type": "execute_result"
    }
   ],
   "source": [
    "res_arr"
   ]
  },
  {
   "cell_type": "code",
   "execution_count": 182,
   "metadata": {},
   "outputs": [
    {
     "name": "stdout",
     "output_type": "stream",
     "text": [
      "1696\n"
     ]
    }
   ],
   "source": [
    "for item in res_arr:\n",
    "    try:\n",
    "        first=res_arr.index(item)\n",
    "        second = res_arr[first+1:].index(item)\n",
    "    except:\n",
    "        first,second = -1,-1\n",
    "    if first != -1:\n",
    "        print(second+2)\n",
    "        break"
   ]
  },
  {
   "cell_type": "code",
   "execution_count": null,
   "metadata": {
    "collapsed": true
   },
   "outputs": [],
   "source": []
  }
 ],
 "metadata": {
  "kernelspec": {
   "display_name": "Python 3",
   "language": "python",
   "name": "python3"
  },
  "language_info": {
   "codemirror_mode": {
    "name": "ipython",
    "version": 3
   },
   "file_extension": ".py",
   "mimetype": "text/x-python",
   "name": "python",
   "nbconvert_exporter": "python",
   "pygments_lexer": "ipython3",
   "version": "3.6.1"
  }
 },
 "nbformat": 4,
 "nbformat_minor": 2
}
